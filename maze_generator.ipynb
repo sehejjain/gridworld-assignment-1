{
 "cells": [
  {
   "cell_type": "code",
   "execution_count": 1,
   "metadata": {},
   "outputs": [
    {
     "name": "stdout",
     "output_type": "stream",
     "text": [
      "pygame 2.1.2 (SDL 2.0.18, Python 3.7.9)\n",
      "Hello from the pygame community. https://www.pygame.org/contribute.html\n"
     ]
    }
   ],
   "source": [
    "import random\n",
    "import pygame\n",
    "import copy"
   ]
  },
  {
   "cell_type": "code",
   "execution_count": 2,
   "metadata": {},
   "outputs": [],
   "source": [
    "BLACK = (0, 0, 0)\n",
    "WHITE = (200, 200, 200)\n",
    "GREEN = (0, 255, 0,)\n",
    "BLUE = (0, 0, 255)\n",
    "RED = (255, 0, 0)\n",
    "YELLOW = (255 ,255 ,0)\n",
    "WINDOW_HEIGHT = 850\n",
    "WINDOW_WIDTH = 850\n",
    "\n",
    "WIDTH = 3.3\n",
    "HEIGHT = 3.3\n",
    "MARGIN = 5\n",
    "FPS = 30\n",
    "\n",
    "pygame.init()\n",
    "pygame.mixer.init()"
   ]
  },
  {
   "cell_type": "code",
   "execution_count": 11,
   "metadata": {},
   "outputs": [
    {
     "ename": "",
     "evalue": "",
     "output_type": "error",
     "traceback": [
      "\u001b[1;31mThe Kernel crashed while executing code in the the current cell or a previous cell. Please review the code in the cell(s) to identify a possible cause of the failure. Click <a href='https://aka.ms/vscodeJupyterKernelCrash'>here</a> for more info. View Jupyter <a href='command:jupyter.viewOutput'>log</a> for further details."
     ]
    }
   ],
   "source": [
    "# Python3 code to implement the approach\n",
    "\n",
    "from random import randint\n",
    "\n",
    "# Class to define structure of a node\n",
    "class Node:\n",
    "\tdef __init__(self, value = None,\n",
    "\t\t\tnext_element = None):\n",
    "\t\tself.val = value\n",
    "\t\tself.next = next_element\n",
    "\n",
    "# Class to implement a stack\n",
    "class stack:\n",
    "\t\n",
    "\t# Constructor\n",
    "\tdef __init__(self):\n",
    "\t\tself.head = None\n",
    "\t\tself.length = 0\n",
    "\n",
    "\t# Put an item on the top of the stack\n",
    "\tdef insert(self, data):\n",
    "\t\tself.head = Node(data, self.head)\n",
    "\t\tself.length += 1\n",
    "\n",
    "\t# Return the top position of the stack\n",
    "\tdef pop(self):\n",
    "\t\tif self.length == 0:\n",
    "\t\t\treturn None\n",
    "\t\telse:\n",
    "\t\t\treturned = self.head.val\n",
    "\t\t\tself.head = self.head.next\n",
    "\t\t\tself.length -= 1\n",
    "\t\t\treturn returned\n",
    "\n",
    "\t# Return False if the stack is empty\n",
    "\t# and true otherwise\n",
    "\tdef not_empty(self):\n",
    "\t\treturn bool(self.length)\n",
    "\n",
    "\t# Return the top position of the stack\n",
    "\tdef top(self):\n",
    "\t\treturn self.head.val\n",
    "\t\t\n",
    "# Function to generate the random maze\n",
    "def random_maze_generator(r, c, P0, Pf):\n",
    "\tROWS, COLS = r, c\n",
    "\t\n",
    "\t# Array with only walls (where paths will\n",
    "\t# be created)\n",
    "\tmaze = list(list('*' for _ in range(COLS))\n",
    "\t\t\t\t\tfor _ in range(ROWS))\n",
    "\t\n",
    "\t# Auxiliary matrices to avoid cycles\n",
    "\tseen = list(list(False for _ in range(COLS))\n",
    "\t\t\t\t\t\tfor _ in range(ROWS))\n",
    "\tprevious = list(list((-1, -1)\n",
    "\tfor _ in range(COLS)) for _ in range(ROWS))\n",
    "\n",
    "\tS = stack()\n",
    "\t\n",
    "\t# Insert initial position\n",
    "\tS.insert(P0)\n",
    "\n",
    "\t# Keep walking on the graph using dfs\n",
    "\t# until we have no more paths to traverse\n",
    "\t# (create)\n",
    "\twhile S.not_empty():\n",
    "\n",
    "\t\t# Remove the position of the Stack\n",
    "\t\t# and mark it as seen\n",
    "\t\tx, y = S.pop()\n",
    "\t\tseen[x][y] = True\n",
    "\n",
    "\t\t# Check if it will create a cycle\n",
    "\t\t# if the adjacent position is valid\n",
    "\t\t# (is in the maze) and the position\n",
    "\t\t# is not already marked as a path\n",
    "\t\t# (was traversed during the dfs) and\n",
    "\t\t# this position is not the one before it\n",
    "\t\t# in the dfs path it means that\n",
    "\t\t# the current position must not be marked.\n",
    "\t\t\n",
    "\t\t# This is to avoid cycles with adj positions\n",
    "\t\tif (x + 1 < ROWS) and maze[x + 1][y] == 1 \\\n",
    "\t\tand previous[x][y] != (x + 1, y):\n",
    "\t\t\tcontinue\n",
    "\t\tif (0 < x) and maze[x-1][y] == 1 \\\n",
    "\t\tand previous[x][y] != (x-1, y):\n",
    "\t\t\tcontinue\n",
    "\t\tif (y + 1 < COLS) and maze[x][y + 1] == 1 \\\n",
    "\t\tand previous[x][y] != (x, y + 1):\n",
    "\t\t\tcontinue\n",
    "\t\tif (y > 0) and maze[x][y-1] == 1 \\\n",
    "\t\tand previous[x][y] != (x, y-1):\n",
    "\t\t\tcontinue\n",
    "\n",
    "\t\t# Mark as walkable position\n",
    "\t\tmaze[x][y] = 1\n",
    "\n",
    "\t\t# Array to shuffle neighbours before\n",
    "\t\t# insertion\n",
    "\t\tto_stack = []\n",
    "\n",
    "\t\t# Before inserting any position,\n",
    "\t\t# check if it is in the boundaries of\n",
    "\t\t# the maze\n",
    "\t\t# and if it were seen (to avoid cycles)\n",
    "\n",
    "\t\t# If adj position is valid and was not seen yet\n",
    "\t\tif (x + 1 < ROWS) and seen[x + 1][y] == False:\n",
    "\t\t\t\n",
    "\t\t\t# Mark the adj position as seen\n",
    "\t\t\tseen[x + 1][y] = True\n",
    "\t\t\t\n",
    "\t\t\t# Memorize the position to insert the\n",
    "\t\t\t# position in the stack\n",
    "\t\t\tto_stack.append((x + 1, y))\n",
    "\t\t\t\n",
    "\t\t\t# Memorize the current position as its\n",
    "\t\t\t# previous position on the path\n",
    "\t\t\tprevious[x + 1][y] = (x, y)\n",
    "\t\t\n",
    "\t\tif (0 < x) and seen[x-1][y] == False:\n",
    "\t\t\t\n",
    "\t\t\t# Mark the adj position as seen\n",
    "\t\t\tseen[x-1][y] = True\n",
    "\t\t\t\n",
    "\t\t\t# Memorize the position to insert the\n",
    "\t\t\t# position in the stack\n",
    "\t\t\tto_stack.append((x-1, y))\n",
    "\t\t\t\n",
    "\t\t\t# Memorize the current position as its\n",
    "\t\t\t# previous position on the path\n",
    "\t\t\tprevious[x-1][y] = (x, y)\n",
    "\t\t\n",
    "\t\tif (y + 1 < COLS) and seen[x][y + 1] == False:\n",
    "\t\t\t\n",
    "\t\t\t# Mark the adj position as seen\n",
    "\t\t\tseen[x][y + 1] = True\n",
    "\t\t\t\n",
    "\t\t\t# Memorize the position to insert the\n",
    "\t\t\t# position in the stack\n",
    "\t\t\tto_stack.append((x, y + 1))\n",
    "\t\t\t\n",
    "\t\t\t# Memorize the current position as its\n",
    "\t\t\t# previous position on the path\n",
    "\t\t\tprevious[x][y + 1] = (x, y)\n",
    "\t\t\n",
    "\t\tif (y > 0) and seen[x][y-1] == False:\n",
    "\t\t\t\n",
    "\t\t\t# Mark the adj position as seen\n",
    "\t\t\tseen[x][y-1] = True\n",
    "\t\t\t\n",
    "\t\t\t# Memorize the position to insert the\n",
    "\t\t\t# position in the stack\n",
    "\t\t\tto_stack.append((x, y-1))\n",
    "\t\t\t\n",
    "\t\t\t# Memorize the current position as its\n",
    "\t\t\t# previous position on the path\n",
    "\t\t\tprevious[x][y-1] = (x, y)\n",
    "\t\t\n",
    "\t\t# Indicates if Pf is a neighbour position\n",
    "\t\tpf_flag = False\n",
    "\t\twhile len(to_stack):\n",
    "\t\t\t\n",
    "\t\t\t# Remove random position\n",
    "\t\t\tneighbour = to_stack.pop(randint(0, len(to_stack)-1))\n",
    "\t\t\t\n",
    "\t\t\t# Is the final position,\n",
    "\t\t\t# remember that by marking the flag\n",
    "\t\t\tif neighbour == Pf:\n",
    "\t\t\t\tpf_flag = True\n",
    "\t\t\t\n",
    "\t\t\t# Put on the top of the stack\n",
    "\t\t\telse:\n",
    "\t\t\t\tS.insert(neighbour)\n",
    "\t\t\n",
    "\t\t# This way, Pf will be on the top\n",
    "\t\tif pf_flag:\n",
    "\t\t\tS.insert(Pf)\n",
    "\t\t\t\t\n",
    "\t# Mark the initial position\n",
    "\tx0, y0 = P0\n",
    "\txf, yf = Pf\n",
    "\tmaze[x0][y0] = 'S'\n",
    "\tmaze[xf][yf] = 'T'\n",
    "\t\n",
    "\t# Return maze formed by the traversed path\n",
    "\treturn maze\n",
    "\n",
    "# # Driver code\n",
    "# if __name__ == \"__main__\":\n",
    "# \tN = 101\n",
    "# \tM = 101\n",
    "# \t# grid = np.random.binomial(1, 0.2, size=(N,M))\n",
    "# \t# indices =  np.random.randint(0, high=N, size=M)\n",
    "# \t# P0 = indices[0]indices[1]\n",
    "# \t# indices1 = np.random.randint(0, high=N, size=M)\n",
    "# \t# P1 = indices1[0]indices1[1]\n",
    "\n",
    "# \t# randint(0, len(to_stack)-1)\n",
    " \n",
    "# \tmaze_dict = {}\n",
    "# \tP0 = (0, 0)\n",
    "# \tP1 = (4, 4)\n",
    "# \tmaze = random_maze_generator(N, M, P0, P1)\n",
    "# \tfor line in maze:\n",
    "# \t\tprint(line)\n"
   ]
  },
  {
   "cell_type": "code",
   "execution_count": 4,
   "metadata": {},
   "outputs": [],
   "source": [
    "def drawGrid(a):\n",
    "\n",
    "    for row in range(len(a)):\n",
    "        for column in range(len(a[0])):\n",
    "            color = WHITE\n",
    "            if a[row][column] == '*':\n",
    "                color = RED\n",
    "            if a[row][column] == 'S':\n",
    "                color = BLUE\n",
    "            if a[row][column] == 'T':\n",
    "                color = YELLOW\n",
    "            pygame.draw.rect(SCREEN,\n",
    "                             color,\n",
    "                             [(MARGIN + WIDTH) * column + MARGIN,\n",
    "                              (MARGIN + HEIGHT) * row + MARGIN,\n",
    "                              WIDTH,\n",
    "                              HEIGHT])"
   ]
  },
  {
   "cell_type": "code",
   "execution_count": 5,
   "metadata": {},
   "outputs": [
    {
     "data": {
      "text/plain": [
       "((9, 56), (51, 91))"
      ]
     },
     "execution_count": 5,
     "metadata": {},
     "output_type": "execute_result"
    }
   ],
   "source": [
    "N = M = 101\n",
    "\n",
    "maze_dict = {}\n",
    "\n",
    "start = (random.randint(0, N-1), random.randint(0, M-1))\n",
    "goal = (random.randint(0, N-1), random.randint(0, M-1))\n",
    "\n",
    "start, goal"
   ]
  },
  {
   "cell_type": "code",
   "execution_count": 6,
   "metadata": {},
   "outputs": [
    {
     "data": {
      "text/plain": [
       "<rect(0, 0, 850, 850)>"
      ]
     },
     "execution_count": 6,
     "metadata": {},
     "output_type": "execute_result"
    }
   ],
   "source": [
    "SCREEN = pygame.display.set_mode((WINDOW_WIDTH, WINDOW_HEIGHT))\n",
    "pygame.display.set_caption(\"Python Maze Generator\")\n",
    "clock = pygame.time.Clock()\n",
    "SCREEN.fill(BLACK)"
   ]
  },
  {
   "cell_type": "code",
   "execution_count": 7,
   "metadata": {},
   "outputs": [],
   "source": [
    "maze = random_maze_generator(N, M, start, goal)"
   ]
  },
  {
   "cell_type": "code",
   "execution_count": 9,
   "metadata": {},
   "outputs": [],
   "source": [
    "drawGrid(maze)"
   ]
  },
  {
   "cell_type": "code",
   "execution_count": 10,
   "metadata": {},
   "outputs": [],
   "source": [
    "pygame.display.update()"
   ]
  },
  {
   "cell_type": "code",
   "execution_count": 244,
   "metadata": {},
   "outputs": [],
   "source": [
    "mazes = []\n",
    "for _ in range(50):\n",
    "    start = (random.randint(0, N-1), random.randint(0, M-1))\n",
    "    goal = (random.randint(0, N-1), random.randint(0, M-1))\n",
    "    maze = random_maze_generator(N, M, start, goal)\n",
    "    mazes.append((maze, start, goal))"
   ]
  },
  {
   "cell_type": "code",
   "execution_count": 237,
   "metadata": {},
   "outputs": [],
   "source": [
    "drawGrid(mazes[random.randint(0, len(mazes)-1)])\n",
    "pygame.display.update()"
   ]
  },
  {
   "cell_type": "code",
   "execution_count": 238,
   "metadata": {},
   "outputs": [],
   "source": [
    "import pickle"
   ]
  },
  {
   "cell_type": "code",
   "execution_count": 246,
   "metadata": {},
   "outputs": [],
   "source": [
    "pickle.dump(mazes, open('mazes.pkl', 'wb'), protocol=pickle.HIGHEST_PROTOCOL)"
   ]
  },
  {
   "cell_type": "code",
   "execution_count": null,
   "metadata": {},
   "outputs": [],
   "source": []
  },
  {
   "cell_type": "code",
   "execution_count": null,
   "metadata": {},
   "outputs": [],
   "source": []
  },
  {
   "cell_type": "code",
   "execution_count": null,
   "metadata": {},
   "outputs": [],
   "source": []
  },
  {
   "cell_type": "code",
   "execution_count": null,
   "metadata": {},
   "outputs": [],
   "source": []
  },
  {
   "cell_type": "code",
   "execution_count": null,
   "metadata": {},
   "outputs": [],
   "source": []
  },
  {
   "cell_type": "code",
   "execution_count": 241,
   "metadata": {},
   "outputs": [],
   "source": [
    "a = maze[0]"
   ]
  },
  {
   "cell_type": "code",
   "execution_count": 243,
   "metadata": {},
   "outputs": [],
   "source": [
    "f = copy.deepcopy(a)"
   ]
  },
  {
   "cell_type": "code",
   "execution_count": 250,
   "metadata": {},
   "outputs": [],
   "source": [
    "pygame.quit()"
   ]
  },
  {
   "cell_type": "code",
   "execution_count": 252,
   "metadata": {},
   "outputs": [],
   "source": [
    "N = M = 50\n",
    "\n",
    "maze_dict = {}\n",
    "\n",
    "start = (random.randint(0, N-1), random.randint(0, M-1))\n",
    "goal = (random.randint(0, N-1), random.randint(0, M-1))\n",
    "\n",
    "start, goal\n",
    "maze = random_maze_generator(N, M, start, goal)\n",
    "pickle.dump((maze, start, goal), open('maze_test.pkl', 'wb'), protocol=pickle.HIGHEST_PROTOCOL)"
   ]
  },
  {
   "cell_type": "code",
   "execution_count": null,
   "metadata": {},
   "outputs": [],
   "source": []
  }
 ],
 "metadata": {
  "kernelspec": {
   "display_name": "Python 3.7.9 ('gridworld')",
   "language": "python",
   "name": "python3"
  },
  "language_info": {
   "codemirror_mode": {
    "name": "ipython",
    "version": 3
   },
   "file_extension": ".py",
   "mimetype": "text/x-python",
   "name": "python",
   "nbconvert_exporter": "python",
   "pygments_lexer": "ipython3",
   "version": "3.7.9"
  },
  "orig_nbformat": 4,
  "vscode": {
   "interpreter": {
    "hash": "3ccefa5fc3ff474ddb8024f100f56a72a1f68d20c4804e0986bd9abc2ce1a653"
   }
  }
 },
 "nbformat": 4,
 "nbformat_minor": 2
}
