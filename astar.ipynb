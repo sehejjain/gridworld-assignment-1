{
 "cells": [
  {
   "cell_type": "code",
   "execution_count": 5,
   "metadata": {},
   "outputs": [],
   "source": [
    "import queue\n",
    "import math"
   ]
  },
  {
   "cell_type": "code",
   "execution_count": 6,
   "metadata": {},
   "outputs": [],
   "source": [
    "# function to calculate the manhattan distance\n",
    "\n",
    "def manhattanDistance(start, goal):\n",
    "    return abs(start[0] - goal[0]) + abs(start[1] - goal[1])"
   ]
  },
  {
   "cell_type": "code",
   "execution_count": 7,
   "metadata": {},
   "outputs": [],
   "source": [
    "class RepeatedAstar:\n",
    "    \n",
    "    def __init__(self, grid, start, goal):\n",
    "        self.grid = grid\n",
    "        self.start = start\n",
    "        self.goal = goal\n",
    "        self.known = [[manhattanDistance((i, j), goal) for i in range(len(grid[0]))] for j in range(len(grid))]\n",
    "        \n",
    "    def runAstar(self, current):\n",
    "        # if self.grid[neighbours[i][0]][neighbours[i][1]] == \"*\":\n",
    "        #             self.known[neighbours[i][0]][neighbours[i][1]] = math.inf\n",
    "        self.known[self.start[0]][self.start[1]] = 0\n",
    "        q = queue.PriorityQueue()\n",
    "        q.put((0, self.start))\n",
    "        while not q.empty():\n",
    "            current = q.get()\n",
    "            if current[1] == self.goal:\n",
    "                return current[0]\n",
    "            for i in self.getNeighbours(current[1]):\n",
    "                if self.known[i[0]][i[1]] > current[0] + 1:\n",
    "                    self.known[i[0]][i[1]] = current[0] + 1\n",
    "                    q.put((current[0] + 1, i))\n",
    "        return -1\n",
    "    "
   ]
  },
  {
   "cell_type": "code",
   "execution_count": 170,
   "metadata": {},
   "outputs": [],
   "source": [
    "a = [\n",
    "    ['*', '*', '*', '*', '*', '*', '*', '*', '*', '*'],\n",
    "    ['*', 'S', '*', '*', '*', ' ', ' ', ' ', ' ', '*'],\n",
    "    ['*', ' ', '*', '*', '*', ' ', '*', ' ', ' ', '*'],\n",
    "    ['*', ' ', '*', '*', '*', ' ', '*', '*', ' ', '*'],\n",
    "    ['*', ' ', '*', '*', ' ', ' ', '*', '*', ' ', '*'],\n",
    "    ['*', ' ', '*', '*', ' ', ' ', '*', '*', ' ', '*'],\n",
    "    ['*', ' ', ' ', ' ', ' ', '*', '*', '*', ' ', '*'],\n",
    "    ['*', '*', '*', ' ', ' ', '*', '*', '*', 'T', '*'],\n",
    "    ['*', '*', '*', '*', '*', '*', '*', '*', '*', '*']\n",
    "]\n",
    "start = (1, 1)\n",
    "goal = (7, 8)\n",
    "\n",
    "known = [[manhattanDistance((j, i), goal) for i in range(len(a[0]))] for j in range(len(a))]"
   ]
  },
  {
   "cell_type": "code",
   "execution_count": 168,
   "metadata": {},
   "outputs": [
    {
     "data": {
      "text/plain": [
       "0"
      ]
     },
     "execution_count": 168,
     "metadata": {},
     "output_type": "execute_result"
    }
   ],
   "source": [
    "manhattanDistance((7,8), goal)"
   ]
  },
  {
   "cell_type": "code",
   "execution_count": 171,
   "metadata": {},
   "outputs": [
    {
     "data": {
      "text/plain": [
       "[[15, 14, 13, 12, 11, 10, 9, 8, 7, 8],\n",
       " [14, 13, 12, 11, 10, 9, 8, 7, 6, 7],\n",
       " [13, 12, 11, 10, 9, 8, 7, 6, 5, 6],\n",
       " [12, 11, 10, 9, 8, 7, 6, 5, 4, 5],\n",
       " [11, 10, 9, 8, 7, 6, 5, 4, 3, 4],\n",
       " [10, 9, 8, 7, 6, 5, 4, 3, 2, 3],\n",
       " [9, 8, 7, 6, 5, 4, 3, 2, 1, 2],\n",
       " [8, 7, 6, 5, 4, 3, 2, 1, 0, 1],\n",
       " [9, 8, 7, 6, 5, 4, 3, 2, 1, 2]]"
      ]
     },
     "execution_count": 171,
     "metadata": {},
     "output_type": "execute_result"
    }
   ],
   "source": [
    "known"
   ]
  },
  {
   "cell_type": "code",
   "execution_count": 237,
   "metadata": {},
   "outputs": [],
   "source": [
    "\n",
    "# Function to implement A* search algorithm\n",
    "\n",
    "\n",
    "class aStar:\n",
    "    def __init__(self, grid, known, start, goal):\n",
    "        \"\"\"\n",
    "            Function that calculates the shortest path from start to goal given a grid and the known world\n",
    "            known contains h value for each cell\n",
    "            If a cell is an obstacle, the h value becomes infinity, \n",
    "\n",
    "            Args:\n",
    "                grid (list): grid \n",
    "                known (list): known grid\n",
    "                start (tuple): start coordinates\n",
    "                goal (tuple): goal coordinates\n",
    "        \"\"\"    \n",
    "        self.grid_dim = (len(grid[0]), len(grid))\n",
    "        self.openList = queue.PriorityQueue()   \n",
    "        self.closedList = []\n",
    "        self.known = known\n",
    "        self.grid = grid\n",
    "        self.openList.put((0, start, []))\n",
    "        self.path = []\n",
    "        # g Values\n",
    "        \n",
    "\n",
    "    def run(self):    \n",
    "        gMatrix = [[0 for i in range(len(self.grid[0]))] for j in range(len(self.grid))]\n",
    "        while self.openList.empty() == False:\n",
    "        # for i in range(20):\n",
    "            # print(\"Open List is\", self.openList.queue)\n",
    "            # print(\"Closed List is\", self.closedList)\n",
    "            _, current, history = self.openList.get()\n",
    "            print(\"Agent is at\", current)\n",
    "            neighbours = self.getNeighbours(self.grid_dim, current)\n",
    "            \n",
    "            # Observe surroundings\n",
    "            for i in range(len(neighbours)):\n",
    "                # print(neighbours[i])\n",
    "                if neighbours[i] == goal:\n",
    "                    print(\"Found goal\")\n",
    "                    #TODO: Return path\n",
    "                    self.path = history\n",
    "                    return history\n",
    "                \n",
    "                # update obstacle values\n",
    "                if self.grid[neighbours[i][0]][neighbours[i][1]] == \"*\":\n",
    "                    self.known[neighbours[i][0]][neighbours[i][1]] = math.inf\n",
    "                g = gMatrix[current[0]][current[1]] + 1\n",
    "                h = known[neighbours[i][0]][neighbours[i][1]]\n",
    "                f = g + h\n",
    "                if f == math.inf:\n",
    "                    continue\n",
    "                present, f_check = self.checkCellInOpenList(neighbours[i])\n",
    "                # print(\"Checking open list\")\n",
    "                if present:\n",
    "                    if f >= f_check:\n",
    "                        continue\n",
    "                \n",
    "                present, f_check = self.checkCellInClosedList(neighbours[i])\n",
    "                # print(\"Checking closed list\")\n",
    "                if present:\n",
    "                    # print(neighbours[i], \"present in closed list\", f, f_check)\n",
    "                    if f >= f_check:\n",
    "                        # print(\"Adding \", neighbours[i], \"with f =\", f_check, f,\"to open list\")\n",
    "                        continue    \n",
    "                # print(\"Adding \", neighbours[i], \"with f =\", f,\"to open list\")\n",
    "                history.append(current)\n",
    "                self.openList.put((f, neighbours[i], history))\n",
    "                gMatrix[neighbours[i][0]][neighbours[i][1]] = g    \n",
    "                \n",
    "            self.closedList.append((gMatrix[current[0]][current[1]], current))\n",
    "\n",
    "    @staticmethod\n",
    "    def getNeighbours(grid_dim, pos):\n",
    "        neighbours = []\n",
    "        \n",
    "        if pos[0] > 0:\n",
    "            neighbours.append((pos[0] - 1, pos[1]))\n",
    "        if pos[0] < grid_dim[0]:\n",
    "            neighbours.append((pos[0], pos[1] + 1))\n",
    "        if pos[1] > 0:\n",
    "            neighbours.append((pos[0], pos[1] - 1))\n",
    "        if pos[1] < grid_dim[1]:\n",
    "            neighbours.append((pos[0] + 1, pos[1]))\n",
    "        \n",
    "        return neighbours\n",
    "    \n",
    "    def checkCellInOpenList(self, pos):\n",
    "        for i in self.openList.queue:\n",
    "            if i[1] == pos:\n",
    "                return True, i[0]\n",
    "        return False, 0\n",
    "    \n",
    "    def checkCellInClosedList(self, pos):\n",
    "        for i in self.closedList:\n",
    "            if i[1] == pos:\n",
    "                return True, i[0]\n",
    "        return False, 0\n",
    "    \n",
    "    \n",
    "    "
   ]
  },
  {
   "cell_type": "code",
   "execution_count": 238,
   "metadata": {},
   "outputs": [
    {
     "data": {
      "text/plain": [
       "[[15, 14, 13, 12, 11, 10, 9, 8, 7, 8],\n",
       " [14, 13, 12, 11, 10, 9, 8, 7, 6, 7],\n",
       " [13, 12, 11, 10, 9, 8, 7, 6, 5, 6],\n",
       " [12, 11, 10, 9, 8, 7, 6, 5, 4, 5],\n",
       " [11, 10, 9, 8, 7, 6, 5, 4, 3, 4],\n",
       " [10, 9, 8, 7, 6, 5, 4, 3, 2, 3],\n",
       " [9, 8, 7, 6, 5, 4, 3, 2, 1, 2],\n",
       " [8, 7, 6, 5, 4, 3, 2, 1, 0, 1],\n",
       " [9, 8, 7, 6, 5, 4, 3, 2, 1, 2]]"
      ]
     },
     "execution_count": 238,
     "metadata": {},
     "output_type": "execute_result"
    }
   ],
   "source": [
    "known = [[manhattanDistance((j, i), goal) for i in range(len(a[0]))] for j in range(len(a))]\n",
    "test = aStar(a, known, start, goal)\n",
    "known"
   ]
  },
  {
   "cell_type": "code",
   "execution_count": 239,
   "metadata": {},
   "outputs": [
    {
     "name": "stdout",
     "output_type": "stream",
     "text": [
      "Agent is at (1, 1)\n",
      "Agent is at (2, 1)\n",
      "Agent is at (3, 1)\n",
      "Agent is at (4, 1)\n",
      "Agent is at (5, 1)\n",
      "Agent is at (6, 1)\n",
      "Agent is at (6, 2)\n",
      "Agent is at (6, 3)\n",
      "Agent is at (6, 4)\n",
      "Agent is at (7, 3)\n",
      "Agent is at (7, 4)\n",
      "Agent is at (5, 4)\n",
      "Agent is at (5, 5)\n",
      "Agent is at (4, 4)\n",
      "Agent is at (4, 5)\n",
      "Agent is at (3, 5)\n",
      "Agent is at (2, 5)\n",
      "Agent is at (1, 5)\n",
      "Agent is at (1, 6)\n",
      "Agent is at (1, 7)\n",
      "Agent is at (1, 8)\n",
      "Agent is at (2, 7)\n",
      "Agent is at (2, 8)\n",
      "Agent is at (3, 8)\n",
      "Agent is at (4, 8)\n",
      "Agent is at (5, 8)\n",
      "Agent is at (6, 8)\n",
      "Found goal\n"
     ]
    },
    {
     "data": {
      "text/plain": [
       "[[15, inf, 13, 12, 11, inf, inf, inf, inf, 8],\n",
       " [inf, 13, inf, 11, inf, 9, 8, 7, 6, inf],\n",
       " [inf, 12, inf, 10, inf, 8, inf, 6, 5, inf],\n",
       " [inf, 11, inf, 9, inf, 7, inf, inf, 4, inf],\n",
       " [inf, 10, inf, inf, 7, 6, inf, inf, 3, inf],\n",
       " [inf, 9, inf, inf, 6, 5, inf, inf, 2, inf],\n",
       " [inf, 8, 7, 6, 5, inf, 3, inf, 1, inf],\n",
       " [8, inf, inf, 5, 4, inf, 2, 1, 0, 1],\n",
       " [9, 8, 7, inf, inf, 4, 3, 2, 1, 2]]"
      ]
     },
     "execution_count": 239,
     "metadata": {},
     "output_type": "execute_result"
    }
   ],
   "source": [
    "test.run()\n",
    "test.known"
   ]
  },
  {
   "cell_type": "code",
   "execution_count": 240,
   "metadata": {},
   "outputs": [
    {
     "data": {
      "text/plain": [
       "[]"
      ]
     },
     "execution_count": 240,
     "metadata": {},
     "output_type": "execute_result"
    }
   ],
   "source": [
    "test.openList.queue"
   ]
  },
  {
   "cell_type": "code",
   "execution_count": 241,
   "metadata": {},
   "outputs": [
    {
     "data": {
      "text/plain": [
       "[(1, 1),\n",
       " (2, 1),\n",
       " (3, 1),\n",
       " (4, 1),\n",
       " (5, 1),\n",
       " (6, 1),\n",
       " (6, 2),\n",
       " (6, 3),\n",
       " (6, 3),\n",
       " (6, 4),\n",
       " (6, 4),\n",
       " (5, 4),\n",
       " (5, 4),\n",
       " (5, 5),\n",
       " (4, 5),\n",
       " (3, 5),\n",
       " (2, 5),\n",
       " (1, 5),\n",
       " (1, 6),\n",
       " (1, 7),\n",
       " (1, 7),\n",
       " (1, 8),\n",
       " (2, 8),\n",
       " (3, 8),\n",
       " (4, 8),\n",
       " (5, 8)]"
      ]
     },
     "execution_count": 241,
     "metadata": {},
     "output_type": "execute_result"
    }
   ],
   "source": [
    "test.path"
   ]
  },
  {
   "cell_type": "code",
   "execution_count": null,
   "metadata": {},
   "outputs": [],
   "source": []
  }
 ],
 "metadata": {
  "kernelspec": {
   "display_name": "Python 3.7.9 ('gridworld')",
   "language": "python",
   "name": "python3"
  },
  "language_info": {
   "codemirror_mode": {
    "name": "ipython",
    "version": 3
   },
   "file_extension": ".py",
   "mimetype": "text/x-python",
   "name": "python",
   "nbconvert_exporter": "python",
   "pygments_lexer": "ipython3",
   "version": "3.7.9"
  },
  "orig_nbformat": 4,
  "vscode": {
   "interpreter": {
    "hash": "3ccefa5fc3ff474ddb8024f100f56a72a1f68d20c4804e0986bd9abc2ce1a653"
   }
  }
 },
 "nbformat": 4,
 "nbformat_minor": 2
}
