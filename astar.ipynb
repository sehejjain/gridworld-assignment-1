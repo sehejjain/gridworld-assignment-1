{
 "cells": [
  {
   "cell_type": "code",
   "execution_count": 1,
   "metadata": {},
   "outputs": [],
   "source": [
    "import queue\n",
    "import math"
   ]
  },
  {
   "cell_type": "code",
   "execution_count": 2,
   "metadata": {},
   "outputs": [],
   "source": [
    "# function to calculate the manhattan distance\n",
    "\n",
    "def manhattanDistance(start, goal):\n",
    "    return abs(start[0] - goal[0]) + abs(start[1] - goal[1])\n",
    "\n",
    "def getNeighbours(grid_dim, pos):\n",
    "    neighbours = []\n",
    "    \n",
    "    if pos[0] > 0:\n",
    "        neighbours.append((pos[0] - 1, pos[1]))\n",
    "    if pos[0] < grid_dim[0]:\n",
    "        neighbours.append((pos[0], pos[1] + 1))\n",
    "    if pos[1] > 0:\n",
    "        neighbours.append((pos[0], pos[1] - 1))\n",
    "    if pos[1] < grid_dim[1]:\n",
    "        neighbours.append((pos[0] + 1, pos[1]))\n",
    "    \n",
    "    return neighbours"
   ]
  },
  {
   "cell_type": "code",
   "execution_count": 56,
   "metadata": {},
   "outputs": [],
   "source": [
    "\n",
    "# Function to implement A* search algorithm\n",
    "\n",
    "\n",
    "class aStar:\n",
    "    def __init__(self, grid, known, start, goal):\n",
    "        \"\"\"\n",
    "            Function that calculates the shortest path from start to goal given a grid and the known world\n",
    "            known contains h value for each cell\n",
    "            If a cell is an obstacle, the h value becomes infinity, \n",
    "\n",
    "            Args:\n",
    "                grid (list): grid \n",
    "                known (list): known grid\n",
    "                start (tuple): start coordinates\n",
    "                goal (tuple): goal coordinates\n",
    "        \"\"\"    \n",
    "        self.grid_dim = (len(grid[0]), len(grid))\n",
    "        self.openList = queue.PriorityQueue()   \n",
    "        self.closedList = []\n",
    "        self.known = known\n",
    "        self.grid = grid\n",
    "        self.openList.put((0, start, []))\n",
    "        self.path = []\n",
    "        # g Values\n",
    "        \n",
    "\n",
    "    def run(self):    \n",
    "        gMatrix = [[0 for i in range(len(self.grid[0]))] for j in range(len(self.grid))]\n",
    "        while self.openList.empty() == False:\n",
    "        # for i in range(20):\n",
    "            # print(\"Open List is\", self.openList.queue)\n",
    "            # print(\"Closed List is\", self.closedList)\n",
    "            _, current, history = self.openList.get()\n",
    "            # print(\"Agent is at\", current)\n",
    "            neighbours = getNeighbours(self.grid_dim, current)\n",
    "            \n",
    "            # Observe surroundings\n",
    "            for i in range(len(neighbours)):\n",
    "                # print(neighbours[i])\n",
    "                if neighbours[i] == goal:\n",
    "                    # print(\"Found goal\")\n",
    "                    #TODO: Return path\n",
    "                    history.extend([current, goal])\n",
    "                    self.path = history\n",
    "                    return sorted(set(self.path), key=self.path.index)\n",
    "                    # return self.path\n",
    "                \n",
    "                # # update obstacle values\n",
    "                # if self.grid[neighbours[i][0]][neighbours[i][1]] == \"*\":\n",
    "                #     self.known[neighbours[i][0]][neighbours[i][1]] = math.inf\n",
    "                g = gMatrix[current[0]][current[1]] + 1\n",
    "                h = known[neighbours[i][0]][neighbours[i][1]]\n",
    "                f = g + h\n",
    "                if f == math.inf:\n",
    "                    continue\n",
    "                present, f_check = self.checkCellInOpenList(neighbours[i])\n",
    "                # print(\"Checking open list\")\n",
    "                if present:\n",
    "                    if f >= f_check:\n",
    "                        continue\n",
    "                \n",
    "                present, f_check = self.checkCellInClosedList(neighbours[i])\n",
    "                # print(\"Checking closed list\")\n",
    "                if present:\n",
    "                    # print(neighbours[i], \"present in closed list\", f, f_check)\n",
    "                    if f >= f_check:\n",
    "                        # print(\"Adding \", neighbours[i], \"with f =\", f_check, f,\"to open list\")\n",
    "                        continue    \n",
    "                # print(\"Adding \", neighbours[i], \"with f =\", f,\"to open list\")\n",
    "                history.append(current)\n",
    "                self.openList.put((f, neighbours[i], history))\n",
    "                gMatrix[neighbours[i][0]][neighbours[i][1]] = g    \n",
    "                \n",
    "            self.closedList.append((gMatrix[current[0]][current[1]], current))\n",
    "\n",
    "    \n",
    "    def checkCellInOpenList(self, pos):\n",
    "        for i in self.openList.queue:\n",
    "            if i[1] == pos:\n",
    "                return True, i[0]\n",
    "        return False, 0\n",
    "    \n",
    "    def checkCellInClosedList(self, pos):\n",
    "        for i in self.closedList:\n",
    "            if i[1] == pos:\n",
    "                return True, i[0]\n",
    "        return False, 0\n",
    "    \n",
    "    \n",
    "    "
   ]
  },
  {
   "cell_type": "code",
   "execution_count": 129,
   "metadata": {},
   "outputs": [],
   "source": [
    "class RepeatedAstar:\n",
    "    \n",
    "    def __init__(self, grid, start, goal):\n",
    "        self.grid = grid\n",
    "        self.start = start\n",
    "        self.current = start\n",
    "        self.goal = goal\n",
    "        self.known = [[manhattanDistance((j, i), goal) for i in range(len(grid[0]))] for j in range(len(grid))]\n",
    "        \n",
    "    def runAstar(self):\n",
    "\n",
    "        neighbours = getNeighbours((len(self.grid), len(self.grid[0])), self.current)\n",
    "        print(neighbours)\n",
    "        for i in range(len(neighbours)):    \n",
    "            if self.grid[neighbours[i][0]][neighbours[i][1]] == \"*\":\n",
    "                self.known[neighbours[i][0]][neighbours[i][1]] = math.inf\n",
    "            \n",
    "        while self.current != self.goal:\n",
    "            print(\"Agent is at\", self.current)\n",
    "            # print(known)\n",
    "            pathFinder = aStar(self.grid, self.known, self.current, self.goal)\n",
    "            path = pathFinder.run()\n",
    "            self.current = path[1]\n",
    "            \n",
    "        print(\"Reached goal\")\n",
    "            \n",
    "    "
   ]
  },
  {
   "cell_type": "code",
   "execution_count": 108,
   "metadata": {},
   "outputs": [
    {
     "data": {
      "text/plain": [
       "[[15, 14, 13, 12, 11, 10, 9, 8, 7, 8],\n",
       " [14, 13, 12, 11, 10, 9, 8, 7, 6, 7],\n",
       " [13, 12, 11, 10, 9, 8, 7, 6, 5, 6],\n",
       " [12, 11, 10, 9, 8, 7, 6, 5, 4, 5],\n",
       " [11, 10, 9, 8, 7, 6, 5, 4, 3, 4],\n",
       " [10, 9, 8, 7, 6, 5, 4, 3, 2, 3],\n",
       " [9, 8, 7, 6, 5, 4, 3, 2, 1, 2],\n",
       " [8, 7, 6, 5, 4, 3, 2, 1, 0, 1],\n",
       " [9, 8, 7, 6, 5, 4, 3, 2, 1, 2]]"
      ]
     },
     "execution_count": 108,
     "metadata": {},
     "output_type": "execute_result"
    }
   ],
   "source": [
    "a = [\n",
    "    ['*', '*', '*', '*', '*', '*', '*', '*', '*', '*'],\n",
    "    ['*', 'S', '*', '*', '*', ' ', ' ', ' ', ' ', '*'],\n",
    "    ['*', ' ', '*', '*', '*', ' ', '*', ' ', ' ', '*'],\n",
    "    ['*', ' ', '*', '*', '*', ' ', '*', '*', ' ', '*'],\n",
    "    ['*', ' ', '*', '*', ' ', ' ', '*', '*', ' ', '*'],\n",
    "    ['*', ' ', '*', '*', ' ', ' ', '*', '*', ' ', '*'],\n",
    "    ['*', ' ', ' ', ' ', ' ', '*', '*', '*', ' ', '*'],\n",
    "    ['*', '*', '*', ' ', ' ', '*', '*', '*', 'T', '*'],\n",
    "    ['*', '*', '*', '*', '*', '*', '*', '*', '*', '*']\n",
    "]\n",
    "start = (1, 1)\n",
    "goal = (7, 8)\n",
    "\n",
    "known = [[manhattanDistance((j, i), goal) for i in range(len(a[0]))] for j in range(len(a))]\n",
    "known"
   ]
  },
  {
   "cell_type": "code",
   "execution_count": 109,
   "metadata": {},
   "outputs": [],
   "source": [
    "# # Test A star\n",
    "# known = [[manhattanDistance((j, i), goal) for i in range(len(a[0]))] for j in range(len(a))]\n",
    "# test = aStar(a, known, start, goal)\n",
    "# test.run()"
   ]
  },
  {
   "cell_type": "code",
   "execution_count": 110,
   "metadata": {},
   "outputs": [
    {
     "data": {
      "text/plain": [
       "[[15, 14, 13, 12, 11, 10, 9, 8, 7, 8],\n",
       " [14, 13, 12, 11, 10, 9, 8, 7, 6, 7],\n",
       " [13, 12, 11, 10, 9, 8, 7, 6, 5, 6],\n",
       " [12, 11, 10, 9, 8, 7, 6, 5, 4, 5],\n",
       " [11, 10, 9, 8, 7, 6, 5, 4, 3, 4],\n",
       " [10, 9, 8, 7, 6, 5, 4, 3, 2, 3],\n",
       " [9, 8, 7, 6, 5, 4, 3, 2, 1, 2],\n",
       " [8, 7, 6, 5, 4, 3, 2, 1, 0, 1],\n",
       " [9, 8, 7, 6, 5, 4, 3, 2, 1, 2]]"
      ]
     },
     "execution_count": 110,
     "metadata": {},
     "output_type": "execute_result"
    }
   ],
   "source": [
    "x = RepeatedAstar(a, start, goal)\n",
    "x.known"
   ]
  },
  {
   "cell_type": "code",
   "execution_count": 128,
   "metadata": {},
   "outputs": [
    {
     "name": "stdout",
     "output_type": "stream",
     "text": [
      "[(6, 8), (7, 9), (7, 7), (8, 8)]\n",
      "Agent is at (7, 8)\n",
      "Found goal\n"
     ]
    }
   ],
   "source": [
    "x.runAstar()"
   ]
  },
  {
   "cell_type": "code",
   "execution_count": 95,
   "metadata": {},
   "outputs": [],
   "source": [
    "neighbours = [(5, 8), (6, 9), (6, 7), (7, 8)]"
   ]
  },
  {
   "cell_type": "code",
   "execution_count": 74,
   "metadata": {},
   "outputs": [
    {
     "name": "stdout",
     "output_type": "stream",
     "text": [
      "4\n"
     ]
    },
    {
     "ename": "IndexError",
     "evalue": "list index out of range",
     "output_type": "error",
     "traceback": [
      "\u001b[0;31m---------------------------------------------------------------------------\u001b[0m",
      "\u001b[0;31mIndexError\u001b[0m                                Traceback (most recent call last)",
      "\u001b[0;32m/var/folders/ch/pyk34v6d6d3fcxt64rbxm20m0000gn/T/ipykernel_5133/541901375.py\u001b[0m in \u001b[0;36m<module>\u001b[0;34m\u001b[0m\n\u001b[1;32m      1\u001b[0m \u001b[0;32mfor\u001b[0m \u001b[0mi\u001b[0m \u001b[0;32min\u001b[0m \u001b[0mrange\u001b[0m\u001b[0;34m(\u001b[0m\u001b[0mlen\u001b[0m\u001b[0;34m(\u001b[0m\u001b[0mneighbours\u001b[0m\u001b[0;34m)\u001b[0m\u001b[0;34m)\u001b[0m\u001b[0;34m:\u001b[0m\u001b[0;34m\u001b[0m\u001b[0;34m\u001b[0m\u001b[0m\n\u001b[0;32m----> 2\u001b[0;31m     \u001b[0mprint\u001b[0m\u001b[0;34m(\u001b[0m\u001b[0mx\u001b[0m\u001b[0;34m.\u001b[0m\u001b[0mknown\u001b[0m\u001b[0;34m[\u001b[0m\u001b[0mneighbours\u001b[0m\u001b[0;34m[\u001b[0m\u001b[0mi\u001b[0m\u001b[0;34m]\u001b[0m\u001b[0;34m[\u001b[0m\u001b[0;36m0\u001b[0m\u001b[0;34m]\u001b[0m\u001b[0;34m]\u001b[0m\u001b[0;34m[\u001b[0m\u001b[0mneighbours\u001b[0m\u001b[0;34m[\u001b[0m\u001b[0mi\u001b[0m\u001b[0;34m]\u001b[0m\u001b[0;34m[\u001b[0m\u001b[0;36m1\u001b[0m\u001b[0;34m]\u001b[0m\u001b[0;34m]\u001b[0m\u001b[0;34m)\u001b[0m\u001b[0;34m\u001b[0m\u001b[0;34m\u001b[0m\u001b[0m\n\u001b[0m",
      "\u001b[0;31mIndexError\u001b[0m: list index out of range"
     ]
    }
   ],
   "source": [
    "for i in range(len(neighbours)):\n",
    "    print(x.known[neighbours[i][0]][neighbours[i][1]])"
   ]
  },
  {
   "cell_type": "code",
   "execution_count": 76,
   "metadata": {},
   "outputs": [
    {
     "ename": "IndexError",
     "evalue": "list index out of range",
     "output_type": "error",
     "traceback": [
      "\u001b[0;31m---------------------------------------------------------------------------\u001b[0m",
      "\u001b[0;31mIndexError\u001b[0m                                Traceback (most recent call last)",
      "\u001b[0;32m/var/folders/ch/pyk34v6d6d3fcxt64rbxm20m0000gn/T/ipykernel_5133/963854743.py\u001b[0m in \u001b[0;36m<module>\u001b[0;34m\u001b[0m\n\u001b[0;32m----> 1\u001b[0;31m \u001b[0mprint\u001b[0m\u001b[0;34m(\u001b[0m\u001b[0mx\u001b[0m\u001b[0;34m.\u001b[0m\u001b[0mknown\u001b[0m\u001b[0;34m[\u001b[0m\u001b[0mneighbours\u001b[0m\u001b[0;34m[\u001b[0m\u001b[0;36m1\u001b[0m\u001b[0;34m]\u001b[0m\u001b[0;34m[\u001b[0m\u001b[0;36m0\u001b[0m\u001b[0;34m]\u001b[0m\u001b[0;34m]\u001b[0m\u001b[0;34m[\u001b[0m\u001b[0mneighbours\u001b[0m\u001b[0;34m[\u001b[0m\u001b[0;36m1\u001b[0m\u001b[0;34m]\u001b[0m\u001b[0;34m[\u001b[0m\u001b[0;36m1\u001b[0m\u001b[0;34m]\u001b[0m\u001b[0;34m]\u001b[0m\u001b[0;34m)\u001b[0m\u001b[0;34m\u001b[0m\u001b[0;34m\u001b[0m\u001b[0m\n\u001b[0m",
      "\u001b[0;31mIndexError\u001b[0m: list index out of range"
     ]
    }
   ],
   "source": [
    "print(x.known[neighbours[1][0]][neighbours[1][1]])"
   ]
  },
  {
   "cell_type": "code",
   "execution_count": 88,
   "metadata": {},
   "outputs": [
    {
     "data": {
      "text/plain": [
       "(1, 1)"
      ]
     },
     "execution_count": 88,
     "metadata": {},
     "output_type": "execute_result"
    }
   ],
   "source": []
  },
  {
   "cell_type": "code",
   "execution_count": 86,
   "metadata": {},
   "outputs": [
    {
     "data": {
      "text/plain": [
       "[(5, 8), (6, 9), (6, 7), (7, 8)]"
      ]
     },
     "execution_count": 86,
     "metadata": {},
     "output_type": "execute_result"
    }
   ],
   "source": [
    "neighbours"
   ]
  },
  {
   "cell_type": "code",
   "execution_count": 85,
   "metadata": {},
   "outputs": [
    {
     "data": {
      "text/plain": [
       "[[15, 14, 13, 12, 11, 10, 9, 8, 9],\n",
       " [14, 13, 12, 11, 10, 9, 8, 7, 8],\n",
       " [13, 12, 11, 10, 9, 8, 7, 6, 7],\n",
       " [12, 11, 10, 9, 8, 7, 6, 5, 6],\n",
       " [11, 10, 9, 8, 7, 6, 5, 4, 5],\n",
       " [10, 9, 8, 7, 6, 5, 4, 3, 4],\n",
       " [9, 8, 7, 6, 5, 4, 3, 2, 3],\n",
       " [8, 7, 6, 5, 4, 3, 2, 1, 2],\n",
       " [7, 6, 5, 4, 3, 2, 1, 0, 1],\n",
       " [8, 7, 6, 5, 4, 3, 2, 1, 2]]"
      ]
     },
     "execution_count": 85,
     "metadata": {},
     "output_type": "execute_result"
    }
   ],
   "source": [
    "x.known[]"
   ]
  },
  {
   "cell_type": "code",
   "execution_count": 103,
   "metadata": {},
   "outputs": [
    {
     "data": {
      "text/plain": [
       "[[15, inf, inf, inf, inf, inf, inf, inf, inf],\n",
       " [inf, 13, inf, inf, inf, 9, 8, 7, 8],\n",
       " [13, 12, inf, inf, inf, 8, inf, 6, 7],\n",
       " [12, 11, 10, 9, 8, 7, 6, 5, 6],\n",
       " [11, 10, 9, 8, 7, 6, 5, 4, 5],\n",
       " [10, 9, 8, 7, 6, 5, 4, 3, 4],\n",
       " [9, 8, 7, 6, 5, 4, 3, 2, 3],\n",
       " [8, 7, 6, 5, 4, 3, 2, 1, 2],\n",
       " [7, 6, 5, 4, 3, 2, 1, 0, 1],\n",
       " [8, 7, 6, 5, 4, 3, 2, 1, 2]]"
      ]
     },
     "execution_count": 103,
     "metadata": {},
     "output_type": "execute_result"
    }
   ],
   "source": [
    "x.known"
   ]
  },
  {
   "cell_type": "code",
   "execution_count": null,
   "metadata": {},
   "outputs": [],
   "source": []
  }
 ],
 "metadata": {
  "kernelspec": {
   "display_name": "Python 3.7.9 ('gridworld')",
   "language": "python",
   "name": "python3"
  },
  "language_info": {
   "codemirror_mode": {
    "name": "ipython",
    "version": 3
   },
   "file_extension": ".py",
   "mimetype": "text/x-python",
   "name": "python",
   "nbconvert_exporter": "python",
   "pygments_lexer": "ipython3",
   "version": "3.7.9"
  },
  "orig_nbformat": 4,
  "vscode": {
   "interpreter": {
    "hash": "3ccefa5fc3ff474ddb8024f100f56a72a1f68d20c4804e0986bd9abc2ce1a653"
   }
  }
 },
 "nbformat": 4,
 "nbformat_minor": 2
}
