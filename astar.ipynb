{
 "cells": [
  {
   "cell_type": "code",
   "execution_count": 5,
   "metadata": {},
   "outputs": [],
   "source": [
    "import queue\n",
    "import math"
   ]
  },
  {
   "cell_type": "code",
   "execution_count": 6,
   "metadata": {},
   "outputs": [],
   "source": [
    "# function to calculate the manhattan distance\n",
    "\n",
    "def manhattanDistance(start, goal):\n",
    "    return abs(start[0] - goal[0]) + abs(start[1] - goal[1])"
   ]
  },
  {
   "cell_type": "code",
   "execution_count": 7,
   "metadata": {},
   "outputs": [],
   "source": [
    "class RepeatedAstar:\n",
    "    \n",
    "    def __init__(self, grid, start, goal):\n",
    "        self.grid = grid\n",
    "        self.start = start\n",
    "        self.goal = goal\n",
    "        self.known = [[manhattanDistance((i, j), goal) for i in range(len(grid[0]))] for j in range(len(grid))]\n",
    "        \n",
    "    def runAstar(self, current):\n",
    "        self.known[self.start[0]][self.start[1]] = 0\n",
    "        q = queue.PriorityQueue()\n",
    "        q.put((0, self.start))\n",
    "        while not q.empty():\n",
    "            current = q.get()\n",
    "            if current[1] == self.goal:\n",
    "                return current[0]\n",
    "            for i in self.getNeighbours(current[1]):\n",
    "                if self.known[i[0]][i[1]] > current[0] + 1:\n",
    "                    self.known[i[0]][i[1]] = current[0] + 1\n",
    "                    q.put((current[0] + 1, i))\n",
    "        return -1\n",
    "    "
   ]
  },
  {
   "cell_type": "code",
   "execution_count": 8,
   "metadata": {},
   "outputs": [],
   "source": [
    "a = [\n",
    "    ['*', '*', '*', '*', '*', '*', '*', '*', '*', '*'],\n",
    "    ['*', 'S', '*', '*', '*', ' ', ' ', ' ', ' ', '*'],\n",
    "    ['*', ' ', '*', '*', '*', ' ', '*', ' ', ' ', '*'],\n",
    "    ['*', ' ', '*', '*', '*', ' ', '*', '*', ' ', '*'],\n",
    "    ['*', ' ', '*', '*', ' ', ' ', '*', '*', ' ', '*'],\n",
    "    ['*', ' ', '*', '*', ' ', ' ', '*', '*', ' ', '*'],\n",
    "    ['*', ' ', ' ', ' ', ' ', '*', '*', '*', ' ', '*'],\n",
    "    ['*', '*', '*', ' ', ' ', '*', '*', '*', 'T', '*'],\n",
    "    ['*', '*', '*', '*', '*', '*', '*', '*', '*', '*']\n",
    "]\n",
    "start = (1, 1)\n",
    "goal = (7, 8)\n",
    "\n",
    "known = [[manhattanDistance((i, j), goal) for i in range(len(a[0]))] for j in range(len(a))]"
   ]
  },
  {
   "cell_type": "code",
   "execution_count": 69,
   "metadata": {},
   "outputs": [],
   "source": [
    "\n",
    "# Function to implement A* search algorithm\n",
    "\n",
    "\n",
    "class aStar:\n",
    "    def __init__(self, grid, known, start, goal):\n",
    "        \"\"\"\n",
    "            Function that calculates the shortest path from start to goal given a grid and the known world\n",
    "            known contains h value for each cell\n",
    "            If a cell is an obstacle, the h value becomes infinity, \n",
    "\n",
    "            Args:\n",
    "                grid (list): grid \n",
    "                known (list): known grid\n",
    "                start (tuple): start coordinates\n",
    "                goal (tuple): goal coordinates\n",
    "        \"\"\"    \n",
    "        self.grid_dim = (len(grid[0]), len(grid))\n",
    "        self.openList = queue.PriorityQueue()   \n",
    "        self.closedList = []\n",
    "        \n",
    "        self.openList.put((0, start))\n",
    "        # g Values\n",
    "        gMatrix = [[0 for i in range(len(grid[0]))] for j in range(len(grid))]\n",
    "\n",
    "        # while self.openList:\n",
    "        for i in range(3):\n",
    "            print(\"Open List is\", self.openList.queue)\n",
    "            print(\"Closed List is\", self.closedList)\n",
    "            current = self.openList.get()[1]\n",
    "            print(\"Agent is at\", current)\n",
    "            neighbours = self.getNeighbours(current)\n",
    "            \n",
    "            # Observe surroundings\n",
    "            for i in range(len(neighbours)):\n",
    "                # print(neighbours[i])\n",
    "                if neighbours[i] == goal:\n",
    "                    print(\"Found goal\")\n",
    "                    #TODO: Return path\n",
    "                    return\n",
    "                \n",
    "                # update obstacle values\n",
    "                if grid[neighbours[i][0]][neighbours[i][1]] == \"*\":\n",
    "                    known[neighbours[i][0]][neighbours[i][1]] = math.inf\n",
    "                else:\n",
    "                    known[neighbours[i][0]][neighbours[i][1]] = 0\n",
    "                g = gMatrix[current[0]][current[1]] + 1\n",
    "                h = known[neighbours[i][0]][neighbours[i][1]]\n",
    "                f = g + h\n",
    "                \n",
    "                present, f_check = self.checkCellInOpenList(current)\n",
    "                # print(\"Checking open list\")\n",
    "                if present:\n",
    "                    if f > f_check:\n",
    "                        continue\n",
    "                \n",
    "                present, f_check = self.checkCellInClosedList(current)\n",
    "                # print(\"Checking closed list\")\n",
    "                if present:\n",
    "                    if f > f_check:\n",
    "                        print(f, f_check)\n",
    "                        continue    \n",
    "                print(\"Adding \", neighbours[i], f,\"to open list\")\n",
    "                self.openList.put((f, neighbours[i]))\n",
    "                gMatrix[neighbours[i][0]][neighbours[i][1]] = g    \n",
    "                \n",
    "            self.closedList.append((f, current))\n",
    "\n",
    "\n",
    "    def getNeighbours(self,pos):\n",
    "        neighbours = []\n",
    "        \n",
    "        if pos[0] > 0:\n",
    "            neighbours.append((pos[0] - 1, pos[1]))\n",
    "        if pos[0] < self.grid_dim[0] - 1:\n",
    "            neighbours.append((pos[0], pos[1] + 1))\n",
    "        if pos[1] > 0:\n",
    "            neighbours.append((pos[0], pos[1] - 1))\n",
    "        if pos[1] < self.grid_dim[1] - 1:\n",
    "            neighbours.append((pos[0] + 1, pos[1]))\n",
    "        \n",
    "        return neighbours\n",
    "    \n",
    "    def checkCellInOpenList(self, pos):\n",
    "        for i in self.openList.queue:\n",
    "            if i[1] == pos:\n",
    "                return True, i[0]\n",
    "        return False, 0\n",
    "    \n",
    "    def checkCellInClosedList(self, pos):\n",
    "        for i in self.closedList:\n",
    "            if i[1] == pos:\n",
    "                print(\"equal\", pos, i)\n",
    "                return True, i[0]\n",
    "        return False, 0\n",
    "    \n",
    "    \n",
    "    "
   ]
  },
  {
   "cell_type": "code",
   "execution_count": 70,
   "metadata": {},
   "outputs": [
    {
     "name": "stdout",
     "output_type": "stream",
     "text": [
      "Open List is [(0, (1, 1))]\n",
      "Closed List is []\n",
      "Agent is at (1, 1)\n",
      "Adding  (0, 1) inf to open list\n",
      "Adding  (1, 2) inf to open list\n",
      "Adding  (1, 0) inf to open list\n",
      "Adding  (2, 1) 1 to open list\n",
      "Open List is [(1, (2, 1)), (inf, (0, 1)), (inf, (1, 0)), (inf, (1, 2))]\n",
      "Closed List is [(1, (1, 1))]\n",
      "Agent is at (2, 1)\n",
      "Adding  (1, 1) 2 to open list\n",
      "Adding  (2, 2) inf to open list\n",
      "Adding  (2, 0) inf to open list\n",
      "Adding  (3, 1) 2 to open list\n",
      "Open List is [(2, (1, 1)), (inf, (0, 1)), (2, (3, 1)), (inf, (1, 2)), (inf, (2, 2)), (inf, (2, 0)), (inf, (1, 0))]\n",
      "Closed List is [(1, (1, 1)), (2, (2, 1))]\n",
      "Agent is at (1, 1)\n",
      "equal (1, 1) (1, (1, 1))\n",
      "inf 1\n",
      "equal (1, 1) (1, (1, 1))\n",
      "inf 1\n",
      "equal (1, 1) (1, (1, 1))\n",
      "inf 1\n",
      "equal (1, 1) (1, (1, 1))\n",
      "3 1\n"
     ]
    }
   ],
   "source": [
    "test = aStar(a, known, start, goal)"
   ]
  },
  {
   "cell_type": "code",
   "execution_count": null,
   "metadata": {},
   "outputs": [],
   "source": []
  },
  {
   "cell_type": "code",
   "execution_count": 39,
   "metadata": {},
   "outputs": [],
   "source": [
    "q = queue.PriorityQueue()\n",
    "q.put((1, (1,1)))\n",
    "q.put((2, (2,2)))"
   ]
  },
  {
   "cell_type": "code",
   "execution_count": 40,
   "metadata": {},
   "outputs": [
    {
     "data": {
      "text/plain": [
       "(1, (1, 1))"
      ]
     },
     "execution_count": 40,
     "metadata": {},
     "output_type": "execute_result"
    }
   ],
   "source": [
    "q.get()"
   ]
  },
  {
   "cell_type": "code",
   "execution_count": null,
   "metadata": {},
   "outputs": [],
   "source": []
  }
 ],
 "metadata": {
  "kernelspec": {
   "display_name": "Python 3.7.9 ('gridworld')",
   "language": "python",
   "name": "python3"
  },
  "language_info": {
   "codemirror_mode": {
    "name": "ipython",
    "version": 3
   },
   "file_extension": ".py",
   "mimetype": "text/x-python",
   "name": "python",
   "nbconvert_exporter": "python",
   "pygments_lexer": "ipython3",
   "version": "3.7.9"
  },
  "orig_nbformat": 4,
  "vscode": {
   "interpreter": {
    "hash": "3ccefa5fc3ff474ddb8024f100f56a72a1f68d20c4804e0986bd9abc2ce1a653"
   }
  }
 },
 "nbformat": 4,
 "nbformat_minor": 2
}
