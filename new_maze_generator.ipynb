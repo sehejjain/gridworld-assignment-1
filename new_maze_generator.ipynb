{
 "cells": [
  {
   "cell_type": "code",
   "execution_count": 1,
   "metadata": {},
   "outputs": [
    {
     "name": "stdout",
     "output_type": "stream",
     "text": [
      "pygame 2.1.2 (SDL 2.0.18, Python 3.7.9)\n",
      "Hello from the pygame community. https://www.pygame.org/contribute.html\n"
     ]
    }
   ],
   "source": [
    "import random, pickle\n",
    "import pygame\n",
    "import copy"
   ]
  },
  {
   "cell_type": "code",
   "execution_count": 2,
   "metadata": {},
   "outputs": [],
   "source": [
    "BLACK = (0, 0, 0)\n",
    "WHITE = (200, 200, 200)\n",
    "GREEN = (0, 255, 0,)\n",
    "BLUE = (0, 0, 255)\n",
    "RED = (255, 0, 0)\n",
    "YELLOW = (255 ,255 ,0)\n",
    "WINDOW_HEIGHT = 850\n",
    "WINDOW_WIDTH = 850\n",
    "\n",
    "WIDTH = 10\n",
    "HEIGHT = 10\n",
    "MARGIN = 5\n",
    "FPS = 30\n",
    "\n",
    "pygame.init()\n",
    "pygame.mixer.init()"
   ]
  },
  {
   "cell_type": "code",
   "execution_count": 33,
   "metadata": {},
   "outputs": [],
   "source": [
    "def drawGrid(a, path):\n",
    "\n",
    "    for row in range(len(a)):\n",
    "        for column in range(len(a[0])):\n",
    "            color = WHITE\n",
    "            if a[row][column] == '*':\n",
    "                color = RED\n",
    "            if a[row][column] == 'S':\n",
    "                color = BLUE\n",
    "            if a[row][column] == 'T':\n",
    "                color = YELLOW\n",
    "            if (row, column) in path and (row, column) != start and (row, column) != goal:\n",
    "                color = GREEN\n",
    "            pygame.draw.rect(SCREEN,\n",
    "                             color,\n",
    "                             [(MARGIN + WIDTH) * column + MARGIN,\n",
    "                              (MARGIN + HEIGHT) * row + MARGIN,\n",
    "                              WIDTH,\n",
    "                              HEIGHT])\n",
    "    pygame.display.update()"
   ]
  },
  {
   "cell_type": "code",
   "execution_count": 34,
   "metadata": {},
   "outputs": [
    {
     "data": {
      "text/plain": [
       "<rect(0, 0, 850, 850)>"
      ]
     },
     "execution_count": 34,
     "metadata": {},
     "output_type": "execute_result"
    }
   ],
   "source": [
    "SCREEN = pygame.display.set_mode((WINDOW_WIDTH, WINDOW_HEIGHT))\n",
    "pygame.display.set_caption(\"Python Maze Generator\")\n",
    "clock = pygame.time.Clock()\n",
    "SCREEN.fill(BLACK)"
   ]
  },
  {
   "cell_type": "code",
   "execution_count": 29,
   "metadata": {},
   "outputs": [],
   "source": [
    "def getNeighbours(point, N, M):\n",
    "    x, y = point\n",
    "    neighbours = []\n",
    "    if x > 0:\n",
    "        neighbours.append((x-1, y))\n",
    "    if x < N-1:\n",
    "        neighbours.append((x+1, y))\n",
    "    if y > 0:\n",
    "        neighbours.append((x, y-1))\n",
    "    if y < M-1:\n",
    "        neighbours.append((x, y+1))\n",
    "    return neighbours"
   ]
  },
  {
   "cell_type": "code",
   "execution_count": 35,
   "metadata": {},
   "outputs": [],
   "source": [
    "def generateMaze(N, M, genProb = 0.3):\n",
    "    maze = [[\" \" for _ in range(M)] for _ in range(N)]\n",
    "    \n",
    "    start = (random.randint(0, N-1), random.randint(0, M-1))\n",
    "    done = [start]\n",
    "    curr = start\n",
    "    path = [start]\n",
    "    rand = random.randint(int(8*N), 10*N)\n",
    "    print(rand)\n",
    "    for _ in range(rand):\n",
    "        neighbours = getNeighbours(curr, N, M)\n",
    "        \n",
    "        if len(neighbours) == 0:\n",
    "            break\n",
    "        \n",
    "        final_actions = []\n",
    "        for neighbour in neighbours:\n",
    "            if neighbour not in done:\n",
    "                final_actions.append(neighbour)\n",
    "        if len(final_actions) == 0:\n",
    "            done.append(curr)\n",
    "            curr = path[-1]\n",
    "            continue\n",
    "        x = random.choice(final_actions)\n",
    "        done.append(x)\n",
    "        path.append(x)\n",
    "        curr = x\n",
    "    goal = curr\n",
    "    print(start, goal)\n",
    "    print(path)\n",
    "    for i in range(N):\n",
    "        for j in range(M):\n",
    "            # print(i, j)\n",
    "            if (i, j) == start:\n",
    "                print(i, j, start)\n",
    "                maze[i][j] = 'S'\n",
    "            elif (i, j) == goal:\n",
    "                print(i, j, goal)\n",
    "                maze[i][j] = 'T'\n",
    "            else:\n",
    "                if (i, j) in path:\n",
    "                    maze[i][j] = ' '\n",
    "                    continue\n",
    "                x = random.random()\n",
    "                if x>1-genProb:\n",
    "                    maze[i][j] = '*'\n",
    "                else:\n",
    "                    maze[i][j] = ' '\n",
    "    \n",
    "    return maze, start, goal, path\n",
    "    "
   ]
  },
  {
   "cell_type": "code",
   "execution_count": 36,
   "metadata": {},
   "outputs": [
    {
     "name": "stdout",
     "output_type": "stream",
     "text": [
      "434\n",
      "(19, 5) (15, 4)\n",
      "[(19, 5), (18, 5), (17, 5), (17, 4), (16, 4), (16, 5), (15, 5), (15, 6), (14, 6), (14, 5), (14, 4), (13, 4), (13, 3), (12, 3), (11, 3), (11, 2), (12, 2), (12, 1), (11, 1), (11, 0), (12, 0), (13, 0), (14, 0), (14, 1), (15, 1), (16, 1), (16, 0), (17, 0), (17, 1), (17, 2), (18, 2), (19, 2), (19, 3), (19, 4), (18, 4), (18, 3), (17, 3), (16, 3), (15, 3), (15, 4)]\n",
      "15 4 (15, 4)\n",
      "19 5 (19, 5)\n"
     ]
    }
   ],
   "source": [
    "x = generateMaze(50, 50, )\n",
    "maze, start, goal, path = x[0], x[1], x[2], x[3]\n",
    "drawGrid(x[0], path)"
   ]
  },
  {
   "cell_type": "code",
   "execution_count": 37,
   "metadata": {},
   "outputs": [
    {
     "data": {
      "text/plain": [
       "40"
      ]
     },
     "execution_count": 37,
     "metadata": {},
     "output_type": "execute_result"
    }
   ],
   "source": [
    "len(path)"
   ]
  },
  {
   "cell_type": "code",
   "execution_count": null,
   "metadata": {},
   "outputs": [],
   "source": []
  }
 ],
 "metadata": {
  "kernelspec": {
   "display_name": "Python 3.7.9 ('gridworld')",
   "language": "python",
   "name": "python3"
  },
  "language_info": {
   "codemirror_mode": {
    "name": "ipython",
    "version": 3
   },
   "file_extension": ".py",
   "mimetype": "text/x-python",
   "name": "python",
   "nbconvert_exporter": "python",
   "pygments_lexer": "ipython3",
   "version": "3.7.9"
  },
  "orig_nbformat": 4,
  "vscode": {
   "interpreter": {
    "hash": "3ccefa5fc3ff474ddb8024f100f56a72a1f68d20c4804e0986bd9abc2ce1a653"
   }
  }
 },
 "nbformat": 4,
 "nbformat_minor": 2
}
