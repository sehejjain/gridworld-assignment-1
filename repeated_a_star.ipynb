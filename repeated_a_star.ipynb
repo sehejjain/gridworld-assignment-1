{
 "cells": [
  {
   "cell_type": "code",
   "execution_count": 1,
   "metadata": {},
   "outputs": [],
   "source": [
    "from utils import getNeighbours, manhattanDistance, BinaryHeap\n",
    "import math\n",
    "from collections import deque\n",
    "import copy"
   ]
  },
  {
   "cell_type": "code",
   "execution_count": 2,
   "metadata": {},
   "outputs": [
    {
     "data": {
      "text/plain": [
       "[[15, 14, 13, 12, 11, 10, 9, 8, 7, 8],\n",
       " [14, 13, 12, 11, 10, 9, 8, 7, 6, 7],\n",
       " [13, 12, 11, 10, 9, 8, 7, 6, 5, 6],\n",
       " [12, 11, 10, 9, 8, 7, 6, 5, 4, 5],\n",
       " [11, 10, 9, 8, 7, 6, 5, 4, 3, 4],\n",
       " [10, 9, 8, 7, 6, 5, 4, 3, 2, 3],\n",
       " [9, 8, 7, 6, 5, 4, 3, 2, 1, 2],\n",
       " [8, 7, 6, 5, 4, 3, 2, 1, 0, 1],\n",
       " [9, 8, 7, 6, 5, 4, 3, 2, 1, 2]]"
      ]
     },
     "execution_count": 2,
     "metadata": {},
     "output_type": "execute_result"
    }
   ],
   "source": [
    "a = [\n",
    "    ['*', '*', '*', '*', '*', '*', '*', '*', '*', '*'],\n",
    "    ['*', 'S', '*', '*', '*', ' ', ' ', ' ', ' ', '*'],\n",
    "    ['*', ' ', '*', '*', '*', ' ', '*', ' ', ' ', '*'],\n",
    "    ['*', ' ', '*', '*', '*', ' ', '*', '*', ' ', '*'],\n",
    "    ['*', ' ', '*', '*', ' ', ' ', '*', '*', ' ', '*'],\n",
    "    ['*', ' ', '*', '*', ' ', ' ', '*', '*', ' ', '*'],\n",
    "    ['*', ' ', ' ', ' ', ' ', '*', '*', '*', ' ', '*'],\n",
    "    ['*', '*', '*', ' ', ' ', '*', '*', '*', 'T', '*'],\n",
    "    ['*', '*', '*', '*', '*', '*', '*', '*', '*', '*']\n",
    "]\n",
    "start = (1, 1)\n",
    "goal = (7, 8)\n",
    "\n",
    "known = [[manhattanDistance((j, i), goal) for i in range(len(a[0]))] for j in range(len(a))]\n",
    "known"
   ]
  },
  {
   "cell_type": "code",
   "execution_count": 190,
   "metadata": {},
   "outputs": [],
   "source": [
    "class Node:\n",
    "    \n",
    "    def __init__(self, point, f, parent=None):\n",
    "        self.point = point\n",
    "        self.f = f\n",
    "        self.parent = parent\n",
    "    \n",
    "    def __lt__(self, other):\n",
    "        if self == other:\n",
    "            return self.f < other.f\n",
    "\n",
    "    def __eq__(self, o):\n",
    "        return self.point == o.point\n",
    "    \n",
    "    def __gt__(self, other):\n",
    "        if self == other:\n",
    "            return self.f > other.f\n",
    "    \n",
    "    def __str__(self):\n",
    "        return str(self.point) + \" \" + str(self.f)\n",
    "    \n",
    "    def getNeighbours(self, grid_dim):\n",
    "        neighbours = []\n",
    "        pos = self.point\n",
    "        if pos[0] > 0:\n",
    "            neighbours.append((pos[0] - 1, pos[1]))\n",
    "        if pos[0] + 1< grid_dim[0] -1:\n",
    "            neighbours.append((pos[0] + 1, pos[1]))\n",
    "        if pos[1] > 0:\n",
    "            neighbours.append((pos[0], pos[1] - 1))\n",
    "        if pos[1]  < grid_dim[1] -1:\n",
    "            neighbours.append((pos[0], pos[1]+1))\n",
    "        \n",
    "        return neighbours"
   ]
  },
  {
   "cell_type": "code",
   "execution_count": 191,
   "metadata": {},
   "outputs": [
    {
     "data": {
      "text/plain": [
       "[(0, 9), (2, 9), (1, 8)]"
      ]
     },
     "execution_count": 191,
     "metadata": {},
     "output_type": "execute_result"
    }
   ],
   "source": [
    "Node(point=(1, 9), f=0).getNeighbours(grid_dim=(9, 10))"
   ]
  },
  {
   "cell_type": "code",
   "execution_count": 192,
   "metadata": {},
   "outputs": [],
   "source": [
    "\n",
    "\n",
    "# Function to implement A* search algorithm\n",
    "\n",
    "\n",
    "class AStar:\n",
    "    def __init__(self, known, start, goal):\n",
    "        \"\"\"\n",
    "            Function that calculates the shortest path from start to goal given a grid and the known world\n",
    "            known contains h value for each cell\n",
    "            If a cell is an obstacle, the h value becomes infinity, \n",
    "\n",
    "            Args:\n",
    "                known (list): known grid\n",
    "                start (tuple): start coordinates\n",
    "                goal (tuple): goal coordinates\n",
    "        \"\"\"    \n",
    "        self.grid_dim = (len(known[0]), len(known))\n",
    "        self.openList = queue.PriorityQueue()   \n",
    "        self.closedList = []\n",
    "        self.known = known\n",
    "        self.openList.put((0, start, []))\n",
    "        self.path = []\n",
    "        # g Values\n",
    "        \n",
    "\n",
    "    def run(self):    \n",
    "        gMatrix = [[0 for i in range(len(self.known[0]))] for j in range(len(self.known))]\n",
    "        while self.openList.empty() == False:\n",
    "        # for i in range(20):\n",
    "            # print(\"Open List is\", self.openList.queue)\n",
    "            # print(\"Closed List is\", self.closedList)\n",
    "            _, current, history = self.openList.get()\n",
    "            # print(\"Agent is at\", current)\n",
    "            neighbours = getNeighbours(self.grid_dim, current)\n",
    "            \n",
    "            # Observe surroundings\n",
    "            for i in range(len(neighbours)):\n",
    "                # print(neighbours[i])\n",
    "                if neighbours[i] == goal:\n",
    "                    # print(\"Found goal\")\n",
    "                    #TODO: Return path\n",
    "                    history.extend([current, goal])\n",
    "                    self.path = history\n",
    "                    return sorted(set(self.path), key=self.path.index)\n",
    "                    # return self.path\n",
    "                \n",
    "\n",
    "                g = gMatrix[current[0]][current[1]] + 1\n",
    "                h = known[neighbours[i][0]][neighbours[i][1]]\n",
    "                f = g + h\n",
    "                if f == math.inf:\n",
    "                    continue\n",
    "                present, f_check = self.checkCellInOpenList(neighbours[i])\n",
    "                # print(\"Checking open list\")\n",
    "                if present:\n",
    "                    if f >= f_check:\n",
    "                        continue\n",
    "                \n",
    "                present, f_check = self.checkCellInClosedList(neighbours[i])\n",
    "                # print(\"Checking closed list\")\n",
    "                if present:\n",
    "                    # print(neighbours[i], \"present in closed list\", f, f_check)\n",
    "                    if f >= f_check:\n",
    "                        # print(\"Adding \", neighbours[i], \"with f =\", f_check, f,\"to open list\")\n",
    "                        continue    \n",
    "                # print(\"Adding \", neighbours[i], \"with f =\", f,\"to open list\")\n",
    "                history.append(current)\n",
    "                self.openList.put((f, neighbours[i], history))\n",
    "                gMatrix[neighbours[i][0]][neighbours[i][1]] = g    \n",
    "                \n",
    "            self.closedList.append((gMatrix[current[0]][current[1]], current))\n",
    "\n",
    "    \n",
    "    def checkCellInOpenList(self, pos):\n",
    "        for i in self.openList.queue:\n",
    "            if i[1] == pos:\n",
    "                return True, i[0]\n",
    "        return False, 0\n",
    "    \n",
    "    def checkCellInClosedList(self, pos):\n",
    "        for i in self.closedList:\n",
    "            if i[1] == pos:\n",
    "                return True, i[0]\n",
    "        return False, 0\n",
    "    \n",
    "    \n",
    "    \n"
   ]
  },
  {
   "cell_type": "code",
   "execution_count": 290,
   "metadata": {},
   "outputs": [],
   "source": [
    "class RepeatedAStar:\n",
    "    def __init__(self, grid, start, goal):\n",
    "        self.counter = 0\n",
    "        self.search = [[0 for i in range(len(grid[0]))] for j in range(len(grid))]\n",
    "        self.grid = grid\n",
    "        self.grid_dim = (len(grid), len(grid[0]), )\n",
    "        self.start, self.goal = start, goal\n",
    "        self.g = [[0 for i in range(len(grid[0]))] for j in range(len(grid))]\n",
    "        # print(self.g)\n",
    "        self.h = [[manhattanDistance((i, j), goal) for i in range(len(grid[0]))] for j in range(len(grid))]\n",
    "        self.current = Node(point=start, f=self.h[start[0]][start[1]])\n",
    "        \n",
    "    def run(self):\n",
    "        \n",
    "        while self.current.point != self.goal:\n",
    "            print(self.current)\n",
    "            \n",
    "            \n",
    "            self.counter += 1\n",
    "            self.g[self.start[0]][self.start[1]] = 0\n",
    "            self.search[self.current.point[0]][self.current.point[1]] = self.counter\n",
    "            self.g[self.goal[0]][self.goal[1]] = math.inf\n",
    "            self.search[self.goal[0]][self.goal[1]] = self.counter\n",
    "            \n",
    "            self.openList = BinaryHeap()\n",
    "            self.closedList = []\n",
    "            self.openList.push(Node(point=self.current.point, f=self.g[self.current.point[0]][self.current.point[1]] + self.h[self.current.point[0]][self.current.point[1]]))\n",
    "            \n",
    "            aStar = self.aStar()\n",
    "            \n",
    "            #TODO: Implement Repeated A* search\n",
    "            \n",
    "            if self.openList.size == 0:\n",
    "                print(\"Cannot reach goal\")\n",
    "                return\n",
    "            \n",
    "            if self.openList.peek().point == self.goal:\n",
    "                # print(\"Found goal\")\n",
    "                #TODO: find reverse path and move towards goal till you reach the goal or cost increases\n",
    "                \n",
    "                curr = self.openList.peek()\n",
    "                path = deque()\n",
    "                \n",
    "                \n",
    "                while curr.parent:\n",
    "                    path.appendleft(curr)\n",
    "                    curr = curr.parent\n",
    "                h = copy.deepcopy(self.h)\n",
    "                \n",
    "                        \n",
    "                # Update the current position of the agent\n",
    "                # return path\n",
    "                # return h, self.h\n",
    "                while self.current.point != self.goal:\n",
    "                    # # Update Obstacles that the agent can see\n",
    "                    # curr_neighbours = self.current.getNeighbours(self.grid_dim)\n",
    "                    # for i in range(len(curr_neighbours)):\n",
    "                    #     if self.grid[curr_neighbours[i][0]][curr_neighbours[i][1]] == \"*\":\n",
    "                    #         h[curr_neighbours[i][0]][curr_neighbours[i][1]] = math.inf\n",
    "                    # if h[self.current.point[0]][self.current.point[1]] == math.inf:\n",
    "                    #     break\n",
    "                    next_block = path.popleft()\n",
    "                    if self.grid[next_block.point[0]][next_block.point[1]] == \"*\":\n",
    "                        break\n",
    "                    self.current = path.popleft()\n",
    "                    print(self.current)\n",
    "                    # if h[self.current.point[0]][self.current.point[1]] == math.inf:\n",
    "                    #     print(\"Found obstacle\")\n",
    "                    #     break\n",
    "                \n",
    "                \n",
    "                    \n",
    "        \n",
    "        \n",
    "        \n",
    "    def aStar(self):\n",
    "        while self.g[self.goal[0]][self.goal[1]] > self.openList.peek().f:\n",
    "            # print(\"Open List is\", self.openList.heap)\n",
    "            current = self.openList.pop()\n",
    "            # print(\"Analyzing\", current.point)\n",
    "            self.closedList.append(current)\n",
    "            neighbours = current.getNeighbours(self.grid_dim)\n",
    "            # print(neighbours)\n",
    "            for neighbour in neighbours:\n",
    "                # print(\"Neighbour is\", neighbour)\n",
    "                if self.g[neighbour[0]][neighbour[1]] < self.counter:\n",
    "                    self.g[neighbour[0]][neighbour[1]] = math.inf\n",
    "                    self.search[neighbour[0]][neighbour[1]] = self.counter\n",
    "\n",
    "                if self.g[neighbour[0]][neighbour[1]] > self.g[current.point[0]][current.point[1]] + 1:         # c(s, a) = 1\n",
    "                    self.g[neighbour[0]][neighbour[1]] = self.g[current.point[0]][current.point[1]] + 1\n",
    "                    new = Node(point=neighbour, f=self.g[neighbour[0]][neighbour[1]] + self.h[neighbour[0]][neighbour[1]], parent=current)\n",
    "                    \n",
    "                    if new in self.openList.heap[1:]:\n",
    "                        self.openList.remove(new)\n",
    "                    self.openList.push(new)\n",
    "                    # print(\"Added\", neighbour, \"to open list\")\n",
    "                    \n",
    "                    "
   ]
  },
  {
   "cell_type": "code",
   "execution_count": 292,
   "metadata": {},
   "outputs": [
    {
     "name": "stdout",
     "output_type": "stream",
     "text": [
      "(1, 1) 13\n",
      "(1, 2) 13\n",
      "(1, 2) 13\n",
      "(1, 2) 13\n"
     ]
    },
    {
     "ename": "IndexError",
     "evalue": "list index out of range",
     "output_type": "error",
     "traceback": [
      "\u001b[0;31m---------------------------------------------------------------------------\u001b[0m",
      "\u001b[0;31mIndexError\u001b[0m                                Traceback (most recent call last)",
      "\u001b[0;32m/var/folders/ch/pyk34v6d6d3fcxt64rbxm20m0000gn/T/ipykernel_23725/3850050153.py\u001b[0m in \u001b[0;36m<module>\u001b[0;34m\u001b[0m\n\u001b[1;32m      1\u001b[0m \u001b[0mr\u001b[0m \u001b[0;34m=\u001b[0m \u001b[0mRepeatedAStar\u001b[0m\u001b[0;34m(\u001b[0m\u001b[0ma\u001b[0m\u001b[0;34m,\u001b[0m \u001b[0mstart\u001b[0m\u001b[0;34m,\u001b[0m \u001b[0mgoal\u001b[0m\u001b[0;34m)\u001b[0m\u001b[0;34m\u001b[0m\u001b[0;34m\u001b[0m\u001b[0m\n\u001b[0;32m----> 2\u001b[0;31m \u001b[0mr\u001b[0m\u001b[0;34m.\u001b[0m\u001b[0mrun\u001b[0m\u001b[0;34m(\u001b[0m\u001b[0;34m)\u001b[0m\u001b[0;34m\u001b[0m\u001b[0;34m\u001b[0m\u001b[0m\n\u001b[0m",
      "\u001b[0;32m/var/folders/ch/pyk34v6d6d3fcxt64rbxm20m0000gn/T/ipykernel_23725/2886514067.py\u001b[0m in \u001b[0;36mrun\u001b[0;34m(self)\u001b[0m\n\u001b[1;32m     27\u001b[0m             \u001b[0mself\u001b[0m\u001b[0;34m.\u001b[0m\u001b[0mopenList\u001b[0m\u001b[0;34m.\u001b[0m\u001b[0mpush\u001b[0m\u001b[0;34m(\u001b[0m\u001b[0mNode\u001b[0m\u001b[0;34m(\u001b[0m\u001b[0mpoint\u001b[0m\u001b[0;34m=\u001b[0m\u001b[0mself\u001b[0m\u001b[0;34m.\u001b[0m\u001b[0mcurrent\u001b[0m\u001b[0;34m.\u001b[0m\u001b[0mpoint\u001b[0m\u001b[0;34m,\u001b[0m \u001b[0mf\u001b[0m\u001b[0;34m=\u001b[0m\u001b[0mself\u001b[0m\u001b[0;34m.\u001b[0m\u001b[0mg\u001b[0m\u001b[0;34m[\u001b[0m\u001b[0mself\u001b[0m\u001b[0;34m.\u001b[0m\u001b[0mcurrent\u001b[0m\u001b[0;34m.\u001b[0m\u001b[0mpoint\u001b[0m\u001b[0;34m[\u001b[0m\u001b[0;36m0\u001b[0m\u001b[0;34m]\u001b[0m\u001b[0;34m]\u001b[0m\u001b[0;34m[\u001b[0m\u001b[0mself\u001b[0m\u001b[0;34m.\u001b[0m\u001b[0mcurrent\u001b[0m\u001b[0;34m.\u001b[0m\u001b[0mpoint\u001b[0m\u001b[0;34m[\u001b[0m\u001b[0;36m1\u001b[0m\u001b[0;34m]\u001b[0m\u001b[0;34m]\u001b[0m \u001b[0;34m+\u001b[0m \u001b[0mself\u001b[0m\u001b[0;34m.\u001b[0m\u001b[0mh\u001b[0m\u001b[0;34m[\u001b[0m\u001b[0mself\u001b[0m\u001b[0;34m.\u001b[0m\u001b[0mcurrent\u001b[0m\u001b[0;34m.\u001b[0m\u001b[0mpoint\u001b[0m\u001b[0;34m[\u001b[0m\u001b[0;36m0\u001b[0m\u001b[0;34m]\u001b[0m\u001b[0;34m]\u001b[0m\u001b[0;34m[\u001b[0m\u001b[0mself\u001b[0m\u001b[0;34m.\u001b[0m\u001b[0mcurrent\u001b[0m\u001b[0;34m.\u001b[0m\u001b[0mpoint\u001b[0m\u001b[0;34m[\u001b[0m\u001b[0;36m1\u001b[0m\u001b[0;34m]\u001b[0m\u001b[0;34m]\u001b[0m\u001b[0;34m)\u001b[0m\u001b[0;34m)\u001b[0m\u001b[0;34m\u001b[0m\u001b[0;34m\u001b[0m\u001b[0m\n\u001b[1;32m     28\u001b[0m \u001b[0;34m\u001b[0m\u001b[0m\n\u001b[0;32m---> 29\u001b[0;31m             \u001b[0maStar\u001b[0m \u001b[0;34m=\u001b[0m \u001b[0mself\u001b[0m\u001b[0;34m.\u001b[0m\u001b[0maStar\u001b[0m\u001b[0;34m(\u001b[0m\u001b[0;34m)\u001b[0m\u001b[0;34m\u001b[0m\u001b[0;34m\u001b[0m\u001b[0m\n\u001b[0m\u001b[1;32m     30\u001b[0m \u001b[0;34m\u001b[0m\u001b[0m\n\u001b[1;32m     31\u001b[0m             \u001b[0;31m#TODO: Implement Repeated A* search\u001b[0m\u001b[0;34m\u001b[0m\u001b[0;34m\u001b[0m\u001b[0;34m\u001b[0m\u001b[0m\n",
      "\u001b[0;32m/var/folders/ch/pyk34v6d6d3fcxt64rbxm20m0000gn/T/ipykernel_23725/2886514067.py\u001b[0m in \u001b[0;36maStar\u001b[0;34m(self)\u001b[0m\n\u001b[1;32m     71\u001b[0m \u001b[0;34m\u001b[0m\u001b[0m\n\u001b[1;32m     72\u001b[0m     \u001b[0;32mdef\u001b[0m \u001b[0maStar\u001b[0m\u001b[0;34m(\u001b[0m\u001b[0mself\u001b[0m\u001b[0;34m)\u001b[0m\u001b[0;34m:\u001b[0m\u001b[0;34m\u001b[0m\u001b[0;34m\u001b[0m\u001b[0m\n\u001b[0;32m---> 73\u001b[0;31m         \u001b[0;32mwhile\u001b[0m \u001b[0mself\u001b[0m\u001b[0;34m.\u001b[0m\u001b[0mg\u001b[0m\u001b[0;34m[\u001b[0m\u001b[0mself\u001b[0m\u001b[0;34m.\u001b[0m\u001b[0mgoal\u001b[0m\u001b[0;34m[\u001b[0m\u001b[0;36m0\u001b[0m\u001b[0;34m]\u001b[0m\u001b[0;34m]\u001b[0m\u001b[0;34m[\u001b[0m\u001b[0mself\u001b[0m\u001b[0;34m.\u001b[0m\u001b[0mgoal\u001b[0m\u001b[0;34m[\u001b[0m\u001b[0;36m1\u001b[0m\u001b[0;34m]\u001b[0m\u001b[0;34m]\u001b[0m \u001b[0;34m>\u001b[0m \u001b[0mself\u001b[0m\u001b[0;34m.\u001b[0m\u001b[0mopenList\u001b[0m\u001b[0;34m.\u001b[0m\u001b[0mpeek\u001b[0m\u001b[0;34m(\u001b[0m\u001b[0;34m)\u001b[0m\u001b[0;34m.\u001b[0m\u001b[0mf\u001b[0m\u001b[0;34m:\u001b[0m\u001b[0;34m\u001b[0m\u001b[0;34m\u001b[0m\u001b[0m\n\u001b[0m\u001b[1;32m     74\u001b[0m             \u001b[0;31m# print(\"Open List is\", self.openList.heap)\u001b[0m\u001b[0;34m\u001b[0m\u001b[0;34m\u001b[0m\u001b[0;34m\u001b[0m\u001b[0m\n\u001b[1;32m     75\u001b[0m             \u001b[0mcurrent\u001b[0m \u001b[0;34m=\u001b[0m \u001b[0mself\u001b[0m\u001b[0;34m.\u001b[0m\u001b[0mopenList\u001b[0m\u001b[0;34m.\u001b[0m\u001b[0mpop\u001b[0m\u001b[0;34m(\u001b[0m\u001b[0;34m)\u001b[0m\u001b[0;34m\u001b[0m\u001b[0;34m\u001b[0m\u001b[0m\n",
      "\u001b[0;32m~/Projects/CS520/gridworld-assignment-1/utils.py\u001b[0m in \u001b[0;36mpeek\u001b[0;34m(self)\u001b[0m\n\u001b[1;32m     41\u001b[0m \u001b[0;34m\u001b[0m\u001b[0m\n\u001b[1;32m     42\u001b[0m     \u001b[0;32mdef\u001b[0m \u001b[0mpeek\u001b[0m\u001b[0;34m(\u001b[0m\u001b[0mself\u001b[0m\u001b[0;34m)\u001b[0m\u001b[0;34m:\u001b[0m\u001b[0;34m\u001b[0m\u001b[0;34m\u001b[0m\u001b[0m\n\u001b[0;32m---> 43\u001b[0;31m         \u001b[0;32mreturn\u001b[0m \u001b[0mself\u001b[0m\u001b[0;34m.\u001b[0m\u001b[0mheap\u001b[0m\u001b[0;34m[\u001b[0m\u001b[0;36m1\u001b[0m\u001b[0;34m]\u001b[0m\u001b[0;34m\u001b[0m\u001b[0;34m\u001b[0m\u001b[0m\n\u001b[0m\u001b[1;32m     44\u001b[0m \u001b[0;34m\u001b[0m\u001b[0m\n\u001b[1;32m     45\u001b[0m     \u001b[0;32mdef\u001b[0m \u001b[0mpop\u001b[0m\u001b[0;34m(\u001b[0m\u001b[0mself\u001b[0m\u001b[0;34m)\u001b[0m\u001b[0;34m:\u001b[0m\u001b[0;34m\u001b[0m\u001b[0;34m\u001b[0m\u001b[0m\n",
      "\u001b[0;31mIndexError\u001b[0m: list index out of range"
     ]
    }
   ],
   "source": [
    "r = RepeatedAStar(a, start, goal)\n",
    "r.run()"
   ]
  },
  {
   "cell_type": "code",
   "execution_count": 282,
   "metadata": {},
   "outputs": [
    {
     "data": {
      "text/plain": [
       "29"
      ]
     },
     "execution_count": 282,
     "metadata": {},
     "output_type": "execute_result"
    }
   ],
   "source": [
    "len(path)"
   ]
  },
  {
   "cell_type": "code",
   "execution_count": 281,
   "metadata": {},
   "outputs": [
    {
     "name": "stdout",
     "output_type": "stream",
     "text": [
      "(1, 2)\n",
      "(1, 3)\n",
      "(1, 4)\n",
      "(1, 5)\n",
      "(1, 6)\n",
      "(1, 7)\n",
      "(1, 8)\n",
      "(1, 9)\n",
      "(2, 9)\n",
      "(3, 9)\n",
      "(4, 9)\n",
      "(5, 9)\n",
      "(5, 8)\n",
      "(5, 7)\n",
      "(5, 6)\n",
      "(5, 5)\n",
      "(5, 4)\n",
      "(5, 3)\n",
      "(5, 2)\n",
      "(5, 1)\n",
      "(6, 1)\n",
      "(7, 1)\n",
      "(7, 2)\n",
      "(7, 3)\n",
      "(7, 4)\n",
      "(7, 5)\n",
      "(7, 6)\n",
      "(7, 7)\n",
      "(7, 8)\n"
     ]
    }
   ],
   "source": [
    "for x in list(path):\n",
    "    print(x.point)"
   ]
  },
  {
   "cell_type": "code",
   "execution_count": 286,
   "metadata": {},
   "outputs": [
    {
     "data": {
      "text/plain": [
       "[[15, inf, 13, 12, 11, 10, 9, 8, 9, 10],\n",
       " [inf, 13, inf, 11, 10, 9, 8, 7, 8, 9],\n",
       " [13, 12, 11, 10, 9, 8, 7, 6, 7, 8],\n",
       " [12, 11, 10, 9, 8, 7, 6, 5, 6, 7],\n",
       " [11, 10, 9, 8, 7, 6, 5, 4, 5, 6],\n",
       " [10, 9, 8, 7, 6, 5, 4, 3, 4, 5],\n",
       " [9, 8, 7, 6, 5, 4, 3, 2, 3, 4],\n",
       " [8, 7, 6, 5, 4, 3, 2, 1, 2, 3],\n",
       " [7, 6, 5, 4, 3, 2, 1, 0, 1, 2]]"
      ]
     },
     "execution_count": 286,
     "metadata": {},
     "output_type": "execute_result"
    }
   ],
   "source": [
    "path[0]"
   ]
  },
  {
   "cell_type": "code",
   "execution_count": 287,
   "metadata": {},
   "outputs": [
    {
     "data": {
      "text/plain": [
       "[[15, 14, 13, 12, 11, 10, 9, 8, 9, 10],\n",
       " [14, 13, 12, 11, 10, 9, 8, 7, 8, 9],\n",
       " [13, 12, 11, 10, 9, 8, 7, 6, 7, 8],\n",
       " [12, 11, 10, 9, 8, 7, 6, 5, 6, 7],\n",
       " [11, 10, 9, 8, 7, 6, 5, 4, 5, 6],\n",
       " [10, 9, 8, 7, 6, 5, 4, 3, 4, 5],\n",
       " [9, 8, 7, 6, 5, 4, 3, 2, 3, 4],\n",
       " [8, 7, 6, 5, 4, 3, 2, 1, 2, 3],\n",
       " [7, 6, 5, 4, 3, 2, 1, 0, 1, 2]]"
      ]
     },
     "execution_count": 287,
     "metadata": {},
     "output_type": "execute_result"
    }
   ],
   "source": [
    "path[1]"
   ]
  },
  {
   "cell_type": "code",
   "execution_count": 293,
   "metadata": {},
   "outputs": [
    {
     "data": {
      "text/plain": [
       "[[2, 3, 4, 3, 4, 5, 6, 7, 8, 9],\n",
       " [3, 4, 3, 4, 3, 4, 5, 6, 7, 8],\n",
       " [4, 3, 4, 3, 4, 5, 6, 7, 8, 9],\n",
       " [5, 4, 5, 6, 7, 8, 9, 10, 9, 10],\n",
       " [6, 5, 6, 7, 8, 9, 10, 11, 10, 11],\n",
       " [7, 8, 9, 10, 11, 12, 11, 12, 13, 12],\n",
       " [8, 9, 10, 11, 12, 13, 12, 13, 14, 13],\n",
       " [21, 22, 21, 22, 15, 14, 15, 14, inf, 0],\n",
       " [0, 0, 0, 0, 0, 0, 0, 0, 0, 0]]"
      ]
     },
     "execution_count": 293,
     "metadata": {},
     "output_type": "execute_result"
    }
   ],
   "source": [
    "r.g"
   ]
  },
  {
   "cell_type": "code",
   "execution_count": null,
   "metadata": {},
   "outputs": [],
   "source": []
  }
 ],
 "metadata": {
  "kernelspec": {
   "display_name": "Python 3.7.9 ('gridworld')",
   "language": "python",
   "name": "python3"
  },
  "language_info": {
   "codemirror_mode": {
    "name": "ipython",
    "version": 3
   },
   "file_extension": ".py",
   "mimetype": "text/x-python",
   "name": "python",
   "nbconvert_exporter": "python",
   "pygments_lexer": "ipython3",
   "version": "3.7.9"
  },
  "orig_nbformat": 4,
  "vscode": {
   "interpreter": {
    "hash": "3ccefa5fc3ff474ddb8024f100f56a72a1f68d20c4804e0986bd9abc2ce1a653"
   }
  }
 },
 "nbformat": 4,
 "nbformat_minor": 2
}
